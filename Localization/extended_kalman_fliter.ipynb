{
 "cells": [
  {
   "cell_type": "code",
   "execution_count": null,
   "metadata": {},
   "outputs": [],
   "source": [
    "# 导入包 \n",
    "\n",
    "import sys\n",
    "import pathlib\n",
    "sys.path.append(str(pathlib.Path(__file__).parent.parent.parent))\n",
    "\n",
    "import math\n",
    "import matplotlib.pyplot as plt\n",
    "import numpy as np\n",
    "\n",
    "from utils.angle import rot_mat_2d\n"
   ]
  },
  {
   "cell_type": "code",
   "execution_count": null,
   "metadata": {},
   "outputs": [],
   "source": [
    "#  Simulation parameter\n",
    "DT=0.1 # time step\n",
    "SIM_TIME = 50.0# 模拟时长\n",
    "\n",
    "\n",
    "GPS_NOISE = np.diag([0.5,0.5])**2\n",
    "INPUT_NOISE = np.diag([1.0,np.deg2rad(30.0)])**2\n",
    "\n",
    "show_animation =True\n",
    "Q = np.diag([\n",
    "    0.1,  # variance of location on x-axis\n",
    "    0.1,  # variance of location on y-axis\n",
    "    np.deg2rad(1.0),  # variance of yaw angle\n",
    "    1.0  # variance of velocity\n",
    "]) ** 2  # predict state covariance\n",
    "R = np.diag([1.0, 1.0]) ** 2  # Observation x,y position covariance\n"
   ]
  },
  {
   "cell_type": "code",
   "execution_count": null,
   "metadata": {},
   "outputs": [],
   "source": [
    "def main():\n",
    "    print(__file__ + \" start!!\")\n",
    "\n",
    "    time = 0.0\n",
    "\n",
    "    ## 状态向量\n",
    "    xEst = np.zeros((4,1))\n",
    "    xTrue = np.zeros((4,1))\n",
    "    PEst = np.eye(4)# 协方差矩阵\n",
    "\n",
    "    xDR = np.zeros((4,1))\n",
    "\n",
    "    # 旧值 history\n",
    "    hxEst = xEst\n",
    "    hxTrue = xTrue\n",
    "    hxDR = xTrue\n",
    "    hz = np.zeros((2,1))\n",
    "\n",
    "    while SIM_TIME>=time:\n",
    "        time +=DT\n",
    "        u =calc_input()\n",
    "        \n",
    "        xTrue,z,xDR,ud = observation(xTrue,xDR,u)\n",
    "\n",
    "        xEst,PEst = ekf_estimation(xEst,PEst,z,ud)\n",
    "    "
   ]
  },
  {
   "cell_type": "code",
   "execution_count": null,
   "metadata": {},
   "outputs": [],
   "source": [
    "def ekf_estimation(xEst,PEst,z,ud):\n",
    "    xPred = motion_model(xEst,u)\n",
    "    jF = jacob_f(xEst,u)\n",
    "    Ppred = jF @ PEst@ jF.T +Q\n",
    "\n",
    "    jH = jacob_h()"
   ]
  },
  {
   "cell_type": "code",
   "execution_count": 2,
   "metadata": {},
   "outputs": [],
   "source": [
    "def observation(xTrue,xd,u):\n",
    "    xTrue = motion_model(xTrue,u)\n",
    "\n",
    "    z = observation_model(xTrue)+GPS_NOISE @np.random.randn(2,1)\n",
    "\n",
    "    ud = u+INPUT_NOISE @np.random.randn(2,1)\n",
    "\n",
    "    xd = motion_model(xd,ud)\n",
    "\n",
    "    return xTrue,z,xd,ud"
   ]
  },
  {
   "cell_type": "code",
   "execution_count": 3,
   "metadata": {},
   "outputs": [
    {
     "name": "stderr",
     "output_type": "stream",
     "text": [
      "<>:7: SyntaxWarning: list indices must be integers or slices, not tuple; perhaps you missed a comma?\n",
      "<>:7: SyntaxWarning: list indices must be integers or slices, not tuple; perhaps you missed a comma?\n",
      "C:\\Users\\Yao\\AppData\\Local\\Temp\\ipykernel_3892\\232248018.py:7: SyntaxWarning: list indices must be integers or slices, not tuple; perhaps you missed a comma?\n",
      "  B = np.array([math.cos(x[2,0])*DT,0]\n"
     ]
    }
   ],
   "source": [
    "def motion_model(x,u):\n",
    "    F = np.array([[1,0,0,0],\n",
    "                  [0,1,0,0],\n",
    "                  [0,0,1,0],\n",
    "                  [0,0,0,0]])\n",
    "    \n",
    "    B = np.array([math.cos(x[2,0])*DT,0]\n",
    "                 [math.sin(x[2,0])*DT,0],\n",
    "                 [0,DT],\n",
    "                 [1,0])\n",
    "    \n",
    "    x = F@x +B@u #用于计算下一步骤的状态，\n",
    "    #执行矩阵乘法运算\n",
    "    return x"
   ]
  },
  {
   "cell_type": "code",
   "execution_count": 4,
   "metadata": {},
   "outputs": [],
   "source": [
    "def observation_model(x):\n",
    "    H = np.array([1,0,0,0],\n",
    "                 [0,1,0,0])\n",
    "    \n",
    "    z = H@x\n",
    "    return z"
   ]
  },
  {
   "cell_type": "code",
   "execution_count": 5,
   "metadata": {},
   "outputs": [],
   "source": [
    "def jacob_f(x,u):\n",
    "    v = u[0,0]\n",
    "\n",
    "    jF = np.array(\n",
    "        [1.0,0.0,-DT*v*math.sin(x[2,0]),DT*math.cos(x[2,0])],\n",
    "        [0.0,1.0,v*math.cos(x[2,0])*DT,DT*math.sin(x[2,0])],\n",
    "        [0.0,1.0,1.0,0.0],\n",
    "        [0.0,0.0,0.0,1.0]\n",
    "    )\n",
    "\n",
    "    return jF"
   ]
  },
  {
   "cell_type": "code",
   "execution_count": 6,
   "metadata": {},
   "outputs": [],
   "source": [
    "def calc_input():\n",
    "    v = 1.0\n",
    "    yawrate = 0.1\n",
    "    u = np.array([[v],[yawrate]])\n",
    "\n",
    "    return u"
   ]
  },
  {
   "cell_type": "code",
   "execution_count": null,
   "metadata": {},
   "outputs": [],
   "source": []
  }
 ],
 "metadata": {
  "kernelspec": {
   "display_name": "python_robotics",
   "language": "python",
   "name": "python3"
  },
  "language_info": {
   "codemirror_mode": {
    "name": "ipython",
    "version": 3
   },
   "file_extension": ".py",
   "mimetype": "text/x-python",
   "name": "python",
   "nbconvert_exporter": "python",
   "pygments_lexer": "ipython3",
   "version": "3.11.3"
  },
  "orig_nbformat": 4
 },
 "nbformat": 4,
 "nbformat_minor": 2
}
